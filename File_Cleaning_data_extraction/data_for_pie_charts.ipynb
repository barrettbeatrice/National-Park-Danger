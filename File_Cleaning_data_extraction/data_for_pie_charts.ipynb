{
 "cells": [
  {
   "cell_type": "code",
   "execution_count": 1,
   "metadata": {},
   "outputs": [],
   "source": [
    "import pandas as pd"
   ]
  },
  {
   "cell_type": "code",
   "execution_count": 2,
   "metadata": {},
   "outputs": [],
   "source": [
    "# Read the Excel file into a DataFrame\n",
    "df = pd.read_excel(\"C:\\\\Users\\\\carli\\\\OneDrive\\\\Desktop\\\\Data-Analyst\\\\Projects\\\\Project_3_Data_Visualization\\\\FOIA-FAQ-NPS-Mortality-Data-CY2007-to-CY2023-Released-August-2023.xlsx\")"
   ]
  },
  {
   "cell_type": "code",
   "execution_count": 3,
   "metadata": {},
   "outputs": [
    {
     "name": "stdout",
     "output_type": "stream",
     "text": [
      "  Incident_Date                             Park_Name       Cause_of_Death  \\\n",
      "0    2007-01-01  Glen Canyon National Recreation Area         Undetermined   \n",
      "1    2007-01-22  Golden Gate National Recreation Area             Drowning   \n",
      "2    2007-01-22  Golden Gate National Recreation Area         Undetermined   \n",
      "3    2007-01-29                 Natchez Trace Parkway  Motor Vehicle Crash   \n",
      "4    2007-01-29                 Natchez Trace Parkway  Motor Vehicle Crash   \n",
      "\n",
      "          Intent       Outcome     Sex     Age_Range  \n",
      "0   Undetermined  Fatal injury    Male           65+  \n",
      "1  Unintentional  Fatal injury    Male  Not Reported  \n",
      "2   Undetermined  Fatal injury    Male  Not Reported  \n",
      "3  Unintentional  Fatal injury  Female         15-24  \n",
      "4  Unintentional  Fatal injury  Female         45-54  \n"
     ]
    }
   ],
   "source": [
    "print(df.head())"
   ]
  },
  {
   "cell_type": "code",
   "execution_count": 4,
   "metadata": {},
   "outputs": [
    {
     "name": "stdout",
     "output_type": "stream",
     "text": [
      "Index(['Incident_Date', 'Park_Name', 'Cause_of_Death', 'Intent', 'Outcome',\n",
      "       'Sex', 'Age_Range'],\n",
      "      dtype='object')\n"
     ]
    }
   ],
   "source": [
    "print(df.columns)"
   ]
  },
  {
   "cell_type": "code",
   "execution_count": 8,
   "metadata": {},
   "outputs": [
    {
     "name": "stdout",
     "output_type": "stream",
     "text": [
      "                Park_Name Cause_of_Death  count\n",
      "0    Acadia National Park       Drowning      5\n",
      "1    Acadia National Park           Fall      7\n",
      "2    Acadia National Park       Homicide      1\n",
      "3    Acadia National Park    Hypothermia      1\n",
      "4    Acadia National Park        Medical      5\n",
      "..                    ...            ...    ...\n",
      "803    Zion National Park   Hyperthermia      2\n",
      "804    Zion National Park    Hypothermia      1\n",
      "805    Zion National Park        Medical      5\n",
      "806    Zion National Park        Suicide      2\n",
      "807    Zion National Park   Undetermined      6\n",
      "\n",
      "[808 rows x 3 columns]\n"
     ]
    }
   ],
   "source": [
    "# Group by, then count occurrences\n",
    "grouped = df.groupby(['Park_Name', 'Cause_of_Death']).size().reset_index(name='count')\n",
    "print(grouped)"
   ]
  },
  {
   "cell_type": "code",
   "execution_count": 10,
   "metadata": {},
   "outputs": [
    {
     "data": {
      "text/plain": [
       "Cause_of_Death\n",
       "Drowning                                           108\n",
       "Motor Vehicle Crash                                 57\n",
       "Undetermined                                        49\n",
       "Medical                                             34\n",
       "Suicide                                             21\n",
       "Other Transportation \\n(e.g. bicycle, aircraft)      9\n",
       "Fall                                                 7\n",
       "Hyperthermia                                         6\n",
       "Other                                                5\n",
       "Poisoning                                            4\n",
       "Blunt force trauma                                   2\n",
       "Homicide                                             1\n",
       "Vessel Incident                                      1\n",
       "Name: count, dtype: int64"
      ]
     },
     "execution_count": 10,
     "metadata": {},
     "output_type": "execute_result"
    }
   ],
   "source": [
    "lake_mead=df.loc[df['Park_Name']=='Lake Mead National Recreation Area']\n",
    "lake_mead['Cause_of_Death'].value_counts()"
   ]
  },
  {
   "cell_type": "code",
   "execution_count": 11,
   "metadata": {},
   "outputs": [
    {
     "data": {
      "text/plain": [
       "Cause_of_Death\n",
       "Medical                53\n",
       "Fall                   41\n",
       "Undetermined           24\n",
       "Drowning               20\n",
       "Suicide                20\n",
       "Hyperthermia           16\n",
       "Motor Vehicle Crash     5\n",
       "Lightning Strike        2\n",
       "Poisoning               2\n",
       "Other                   1\n",
       "Flash flood             1\n",
       "Name: count, dtype: int64"
      ]
     },
     "execution_count": 11,
     "metadata": {},
     "output_type": "execute_result"
    }
   ],
   "source": [
    "grand_canyon=df.loc[df['Park_Name']=='Grand Canyon National Park']\n",
    "grand_canyon['Cause_of_Death'].value_counts()"
   ]
  },
  {
   "cell_type": "code",
   "execution_count": 12,
   "metadata": {},
   "outputs": [
    {
     "data": {
      "text/plain": [
       "Cause_of_Death\n",
       "Fall                                               56\n",
       "Medical                                            35\n",
       "Drowning                                           21\n",
       "Undetermined                                       21\n",
       "Motor Vehicle Crash                                10\n",
       "Suicide                                            10\n",
       "Rockfall                                            5\n",
       "Falling tree/branch                                 4\n",
       "Hypothermia                                         3\n",
       "Other                                               3\n",
       "Poisoning                                           2\n",
       "Other Transportation \\n(e.g. bicycle, aircraft)     1\n",
       "Blunt force trauma                                  1\n",
       "Avalanche                                           1\n",
       "Name: count, dtype: int64"
      ]
     },
     "execution_count": 12,
     "metadata": {},
     "output_type": "execute_result"
    }
   ],
   "source": [
    "yosemite=df.loc[df['Park_Name']=='Yosemite National Park']\n",
    "yosemite['Cause_of_Death'].value_counts()"
   ]
  },
  {
   "cell_type": "code",
   "execution_count": 13,
   "metadata": {},
   "outputs": [
    {
     "data": {
      "text/plain": [
       "Cause_of_Death\n",
       "Motor Vehicle Crash    93\n",
       "Suicide                41\n",
       "Medical                 7\n",
       "Undetermined            4\n",
       "Homicide                2\n",
       "Other                   1\n",
       "Fall                    1\n",
       "Falling tree/branch     1\n",
       "Name: count, dtype: int64"
      ]
     },
     "execution_count": 13,
     "metadata": {},
     "output_type": "execute_result"
    }
   ],
   "source": [
    "natchez_trace=df.loc[df['Park_Name']=='Natchez Trace Parkway']\n",
    "natchez_trace['Cause_of_Death'].value_counts()"
   ]
  },
  {
   "cell_type": "code",
   "execution_count": 14,
   "metadata": {},
   "outputs": [
    {
     "data": {
      "text/plain": [
       "Cause_of_Death\n",
       "Undetermined                                       40\n",
       "Suicide                                            39\n",
       "Drowning                                           25\n",
       "Fall                                               10\n",
       "Medical                                            10\n",
       "Poisoning                                           6\n",
       "Motor Vehicle Crash                                 6\n",
       "Other Transportation \\n(e.g. bicycle, aircraft)     4\n",
       "Hypothermia                                         2\n",
       "Name: count, dtype: int64"
      ]
     },
     "execution_count": 14,
     "metadata": {},
     "output_type": "execute_result"
    }
   ],
   "source": [
    "golden_gate=df.loc[df['Park_Name']=='Golden Gate National Recreation Area']\n",
    "golden_gate['Cause_of_Death'].value_counts()"
   ]
  }
 ],
 "metadata": {
  "kernelspec": {
   "display_name": "dev",
   "language": "python",
   "name": "python3"
  },
  "language_info": {
   "codemirror_mode": {
    "name": "ipython",
    "version": 3
   },
   "file_extension": ".py",
   "mimetype": "text/x-python",
   "name": "python",
   "nbconvert_exporter": "python",
   "pygments_lexer": "ipython3",
   "version": "3.10.13"
  }
 },
 "nbformat": 4,
 "nbformat_minor": 2
}
